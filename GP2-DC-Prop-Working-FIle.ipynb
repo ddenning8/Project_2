{
 "cells": [
  {
   "cell_type": "code",
   "execution_count": 3,
   "metadata": {},
   "outputs": [],
   "source": [
    "#import matplotlib\n",
    "#import matplotlib.pyplot as plt\n",
    "import pandas as pd\n",
    "import numpy as np\n",
    "import sqlalchemy\n",
    "from sqlalchemy import create_engine, MetaData\n",
    "from sqlalchemy.ext.declarative import declarative_base\n",
    "from sqlalchemy import Column, Integer, String, Numeric, Text, Float, ForeignKey\n",
    "from sqlalchemy.orm import sessionmaker, relationship"
   ]
  },
  {
   "cell_type": "code",
   "execution_count": 4,
   "metadata": {},
   "outputs": [
    {
     "name": "stderr",
     "output_type": "stream",
     "text": [
      "C:\\Users\\djhon\\Anaconda3\\lib\\site-packages\\IPython\\core\\interactiveshell.py:3020: DtypeWarning: Columns (18,19,20,21,22,23,24,33,34,35,37,43,45) have mixed types. Specify dtype option on import or set low_memory=False.\n",
      "  interactivity=interactivity, compiler=compiler, result=result)\n"
     ]
    }
   ],
   "source": [
    "housing_df = pd.read_csv(\"Resources\\DC_Properties.csv\")"
   ]
  },
  {
   "cell_type": "code",
   "execution_count": 5,
   "metadata": {},
   "outputs": [],
   "source": [
    "housing_df['YEAR'] = pd.DatetimeIndex(housing_df['SALEDATE']).year"
   ]
  },
  {
   "cell_type": "code",
   "execution_count": null,
   "metadata": {},
   "outputs": [],
   "source": [
    "housing_df.columns"
   ]
  },
  {
   "cell_type": "code",
   "execution_count": 6,
   "metadata": {},
   "outputs": [],
   "source": [
    "#Filter orginal dataframe to get to meaningful data 54,752 rows\n",
    "hdf2 = housing_df.loc[housing_df['YEAR']== 2017, :]\n",
    "hdf3 = hdf2.loc[hdf2['SOURCE'] == 'Residential', : ]\n",
    "hdf4 = hdf3.dropna(subset=['PRICE','QUADRANT','WARD','FULLADDRESS','ZIPCODE','BEDRM','BATHRM','KITCHENS'])\n",
    "hdf5 = hdf4[['QUADRANT','FULLADDRESS','ZIPCODE','BEDRM','BATHRM','KITCHENS','PRICE']]\n",
    "hdf6 = hdf5.loc[hdf5['PRICE'] > 100000, :]\n",
    "hdtable = pd.DataFrame(hdf6)"
   ]
  },
  {
   "cell_type": "code",
   "execution_count": null,
   "metadata": {},
   "outputs": [],
   "source": [
    "hdtable.head(5)"
   ]
  },
  {
   "cell_type": "code",
   "execution_count": null,
   "metadata": {},
   "outputs": [],
   "source": [
    "hdtable.columns"
   ]
  },
  {
   "cell_type": "code",
   "execution_count": null,
   "metadata": {},
   "outputs": [],
   "source": [
    "hdtable.info()"
   ]
  },
  {
   "cell_type": "code",
   "execution_count": null,
   "metadata": {},
   "outputs": [],
   "source": [
    "hdtable.count()"
   ]
  },
  {
   "cell_type": "code",
   "execution_count": null,
   "metadata": {},
   "outputs": [],
   "source": [
    "grouped_year = hdtable.groupby(\"QUADRANT\").PRICE.agg([\"min\", \"mean\",\"median\", \"max\", \"count\"])\n",
    "grouped_year"
   ]
  },
  {
   "cell_type": "code",
   "execution_count": 7,
   "metadata": {},
   "outputs": [],
   "source": [
    "hdtable.to_csv(\"hdtable.csv\", index=False, header=True)"
   ]
  },
  {
   "cell_type": "code",
   "execution_count": 8,
   "metadata": {},
   "outputs": [
    {
     "name": "stdout",
     "output_type": "stream",
     "text": [
      "<class 'pandas.core.frame.DataFrame'>\n",
      "RangeIndex: 5237 entries, 0 to 5236\n",
      "Data columns (total 7 columns):\n",
      "QUADRANT       5237 non-null object\n",
      "FULLADDRESS    5237 non-null object\n",
      "ZIPCODE        5237 non-null float64\n",
      "BEDRM          5237 non-null int64\n",
      "BATHRM         5237 non-null int64\n",
      "KITCHENS       5237 non-null float64\n",
      "PRICE          5237 non-null float64\n",
      "dtypes: float64(3), int64(2), object(2)\n",
      "memory usage: 286.5+ KB\n"
     ]
    }
   ],
   "source": [
    "test=pd.read_csv(\"hdtable.csv\")\n",
    "test.info()"
   ]
  },
  {
   "cell_type": "code",
   "execution_count": 9,
   "metadata": {},
   "outputs": [],
   "source": [
    "# Create Engine\n",
    "engine = create_engine(\"sqlite:///housingdata.sqlite\")\n",
    "# Declare a Base\n",
    "Base = declarative_base()"
   ]
  },
  {
   "cell_type": "code",
   "execution_count": 10,
   "metadata": {},
   "outputs": [],
   "source": [
    "# Define the ORM class for `Measurements`\n",
    "class Measurement(Base):\n",
    "    \n",
    "    __tablename__ = 'hdata'\n",
    "\n",
    "    id = Column(Integer, primary_key=True)\n",
    "    QUADRANT = Column(String)\n",
    "    FULLADDRESS = Column(String)\n",
    "    ZIPCODE = Column(Integer)\n",
    "    BEDRM = Column(Integer)\n",
    "    BATHRM = Column(Integer)\n",
    "    KITCHENS = Column(Integer)\n",
    "    PRICE = Column(Float)"
   ]
  },
  {
   "cell_type": "code",
   "execution_count": 11,
   "metadata": {},
   "outputs": [],
   "source": [
    "# Use `create_all` to create the tables\n",
    "Base.metadata.create_all(engine)"
   ]
  },
  {
   "cell_type": "code",
   "execution_count": 12,
   "metadata": {},
   "outputs": [
    {
     "data": {
      "text/plain": [
       "['hdata']"
      ]
     },
     "execution_count": 12,
     "metadata": {},
     "output_type": "execute_result"
    }
   ],
   "source": [
    "# Verify that the table names exist in the database\n",
    "engine.table_names()"
   ]
  },
  {
   "cell_type": "code",
   "execution_count": 20,
   "metadata": {},
   "outputs": [],
   "source": [
    "# Use Pandas to Bulk insert each CSV file into their appropriate table\n",
    "def populate_table(engine, table, csvfile):\n",
    "    \"\"\"Populates a table from a Pandas DataFrame.\"\"\"\n",
    "    # connect to the database\n",
    "    conn = engine.connect()\n",
    "    \n",
    "    # Load the CSV file into a pandas dataframe \n",
    "    df_of_data_to_insert = pd.read_csv(csvfile)\n",
    "    \n",
    "    # Orient='records' creates a list of data to write\n",
    "    # http://pandas-docs.github.io/pandas-docs-travis/io.html#orient-options\n",
    "    data = df_of_data_to_insert.to_dict(orient='records')\n",
    "\n",
    "    # Optional: Delete all rows in the table \n",
    "    conn.execute(table.delete())\n",
    "\n",
    "    # Insert the dataframe into the database in one bulk insert\n",
    "    conn.execute(table.insert(), data)"
   ]
  },
  {
   "cell_type": "code",
   "execution_count": 21,
   "metadata": {},
   "outputs": [],
   "source": [
    "populate_table(engine, Measurement.__table__, 'hdtable.csv')"
   ]
  },
  {
   "cell_type": "code",
   "execution_count": 22,
   "metadata": {},
   "outputs": [
    {
     "data": {
      "text/plain": [
       "[(1, 'NW', '1416 CORCORAN STREET NW', 20009, 4, 3, 2, 1700000.0),\n",
       " (2, 'NW', '1910 1/2 NEW HAMPSHIRE AVENUE NW', 20009, 3, 2, 2, 1363000.0),\n",
       " (3, 'NW', '1619 SWANN STREET NW', 20009, 4, 6, 4, 1500000.0),\n",
       " (4, 'NW', '1707 21ST STREET NW', 20009, 6, 4, 4, 1351830.0),\n",
       " (5, 'NW', '2025 R STREET NW', 20009, 6, 4, 2, 1844970.0),\n",
       " (6, 'NW', '2014 HILLYER PLACE NW', 20009, 5, 3, 2, 1625000.0),\n",
       " (7, 'NW', '1760 T STREET NW', 20009, 5, 2, 2, 1925000.0),\n",
       " (8, 'NW', '1808 CORCORAN STREET NW', 20009, 3, 2, 1, 950000.0),\n",
       " (9, 'NW', '1639 19TH STREET NW', 20009, 3, 2, 2, 1330000.0),\n",
       " (10, 'NW', '1524 18TH STREET NW', 20036, 4, 4, 4, 2279000.0)]"
      ]
     },
     "execution_count": 22,
     "metadata": {},
     "output_type": "execute_result"
    }
   ],
   "source": [
    "engine.execute(\"SELECT * FROM hdata LIMIT 10\").fetchall()"
   ]
  }
 ],
 "metadata": {
  "kernelspec": {
   "display_name": "Python 3",
   "language": "python",
   "name": "python3"
  },
  "language_info": {
   "codemirror_mode": {
    "name": "ipython",
    "version": 3
   },
   "file_extension": ".py",
   "mimetype": "text/x-python",
   "name": "python",
   "nbconvert_exporter": "python",
   "pygments_lexer": "ipython3",
   "version": "3.7.1"
  }
 },
 "nbformat": 4,
 "nbformat_minor": 2
}
