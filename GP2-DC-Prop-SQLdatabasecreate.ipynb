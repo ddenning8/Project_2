{
 "cells": [
  {
   "cell_type": "code",
   "execution_count": 1,
   "metadata": {},
   "outputs": [],
   "source": [
    "import pandas as pd\n",
    "import numpy as np\n",
    "import sqlalchemy\n",
    "import json\n",
    "from sqlalchemy import create_engine, MetaData\n",
    "from sqlalchemy.ext.declarative import declarative_base\n",
    "from sqlalchemy import Column, Integer, String, Numeric, Text, Float, ForeignKey\n",
    "from sqlalchemy.orm import sessionmaker, relationship\n",
    "\n",
    "from flask import Flask, jsonify, render_template\n",
    "from flask_sqlalchemy import SQLAlchemy"
   ]
  },
  {
   "cell_type": "code",
   "execution_count": 2,
   "metadata": {},
   "outputs": [],
   "source": [
    "# Create Engine\n",
    "engine = create_engine(\"sqlite:///housingdata.sqlite\")\n",
    "# Declare a Base\n",
    "Base = declarative_base()"
   ]
  },
  {
   "cell_type": "code",
   "execution_count": 3,
   "metadata": {},
   "outputs": [],
   "source": [
    "# Define the ORM class for `Measurements`\n",
    "class Measurement(Base):\n",
    "    \n",
    "    __tablename__ = 'hdata'\n",
    "\n",
    "    id = Column(Integer, primary_key=True)\n",
    "    QUADRANT = Column(String)\n",
    "    FULLADDRESS = Column(String)\n",
    "    ZIPCODE = Column(Integer)\n",
    "    BEDRM = Column(Integer)\n",
    "    BATHRM = Column(Integer)\n",
    "    KITCHENS = Column(Integer)\n",
    "    PRICE = Column(Float)"
   ]
  },
  {
   "cell_type": "code",
   "execution_count": 5,
   "metadata": {},
   "outputs": [],
   "source": [
    "# Use `create_all` to create the tables\n",
    "Base.metadata.create_all(engine)"
   ]
  },
  {
   "cell_type": "code",
   "execution_count": 6,
   "metadata": {},
   "outputs": [],
   "source": [
    "# Use Pandas to Bulk insert each CSV file into their appropriate table\n",
    "def populate_table(engine, table, csvfile):\n",
    "    \"\"\"Populates a table from a Pandas DataFrame.\"\"\"\n",
    "    # connect to the database\n",
    "    conn = engine.connect()\n",
    "    \n",
    "    # Load the CSV file into a pandas dataframe \n",
    "    df_of_data_to_insert = pd.read_csv(csvfile)\n",
    "    \n",
    "    # Orient='records' creates a list of data to write\n",
    "    # http://pandas-docs.github.io/pandas-docs-travis/io.html#orient-options\n",
    "    data = df_of_data_to_insert.to_dict(orient='records')\n",
    "\n",
    "    # Optional: Delete all rows in the table \n",
    "    conn.execute(table.delete())\n",
    "\n",
    "    # Insert the dataframe into the database in one bulk insert\n",
    "    conn.execute(table.insert(), data)"
   ]
  },
  {
   "cell_type": "code",
   "execution_count": 7,
   "metadata": {},
   "outputs": [],
   "source": [
    "populate_table(engine, Measurement.__table__, 'hdtable.csv')"
   ]
  },
  {
   "cell_type": "code",
   "execution_count": 8,
   "metadata": {},
   "outputs": [
    {
     "data": {
      "text/plain": [
       "[(1, 'NW', '1416 CORCORAN STREET NW', 20009, 4, 3, 2, 1700000.0),\n",
       " (2, 'NW', '1910 1/2 NEW HAMPSHIRE AVENUE NW', 20009, 3, 2, 2, 1363000.0),\n",
       " (3, 'NW', '1619 SWANN STREET NW', 20009, 4, 6, 4, 1500000.0),\n",
       " (4, 'NW', '1707 21ST STREET NW', 20009, 6, 4, 4, 1351830.0),\n",
       " (5, 'NW', '2025 R STREET NW', 20009, 6, 4, 2, 1844970.0),\n",
       " (6, 'NW', '2014 HILLYER PLACE NW', 20009, 5, 3, 2, 1625000.0),\n",
       " (7, 'NW', '1760 T STREET NW', 20009, 5, 2, 2, 1925000.0),\n",
       " (8, 'NW', '1808 CORCORAN STREET NW', 20009, 3, 2, 1, 950000.0),\n",
       " (9, 'NW', '1639 19TH STREET NW', 20009, 3, 2, 2, 1330000.0),\n",
       " (10, 'NW', '1524 18TH STREET NW', 20036, 4, 4, 4, 2279000.0)]"
      ]
     },
     "execution_count": 8,
     "metadata": {},
     "output_type": "execute_result"
    }
   ],
   "source": [
    "engine.execute(\"SELECT * FROM hdata LIMIT 10\").fetchall()"
   ]
  }
 ],
 "metadata": {
  "kernelspec": {
   "display_name": "Python 3",
   "language": "python",
   "name": "python3"
  },
  "language_info": {
   "codemirror_mode": {
    "name": "ipython",
    "version": 3
   },
   "file_extension": ".py",
   "mimetype": "text/x-python",
   "name": "python",
   "nbconvert_exporter": "python",
   "pygments_lexer": "ipython3",
   "version": "3.7.1"
  }
 },
 "nbformat": 4,
 "nbformat_minor": 2
}
